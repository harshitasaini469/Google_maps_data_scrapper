{
 "cells": [
  {
   "cell_type": "markdown",
   "id": "dae80c6a",
   "metadata": {},
   "source": [
    "## Google Maps Data Scrapper \n"
   ]
  },
  {
   "cell_type": "markdown",
   "id": "3daa5a50",
   "metadata": {},
   "source": [
    "<b>Importing all important modules</b>"
   ]
  },
  {
   "cell_type": "code",
   "execution_count": 1,
   "id": "d2f9fc91",
   "metadata": {},
   "outputs": [],
   "source": [
    "from selenium import webdriver\n",
    "from selenium.webdriver.firefox.options import Options\n",
    "import os\n",
    "from selenium.webdriver.firefox.service import Service\n",
    "from selenium.webdriver.common.keys import Keys\n",
    "from selenium.webdriver.common.by import By\n",
    "from selenium.webdriver.support import expected_conditions as EC\n",
    "from selenium.webdriver.common.action_chains import ActionChains\n",
    "from selenium.common.exceptions import NoSuchElementException\n",
    "from selenium.webdriver.support.ui import WebDriverWait\n",
    "import time\n",
    "import pandas as pd\n",
    "\n"
   ]
  },
  {
   "cell_type": "markdown",
   "id": "321ea8a6",
   "metadata": {},
   "source": [
    "<b>Main program</b>\n"
   ]
  },
  {
   "cell_type": "code",
   "execution_count": 12,
   "id": "b443c016",
   "metadata": {},
   "outputs": [],
   "source": [
    "def extractor(driver,url,no_of_records,location): \n",
    "    ''' this function takes the driver, the url, no of records and location as its parameters\n",
    "    first it finds the search box element for passing the input, search for the input location and after extracting all required data,\n",
    "    saves the result into a csv file'''\n",
    "    \n",
    "    driver.get(url);\n",
    "    time.sleep(1)\n",
    "    \n",
    "    send_input=driver.find_element(By.ID,'searchboxinput')  # finding the search box to send the input\n",
    "    send_input.send_keys(location) # sending the location as an input\n",
    "    \n",
    "    time.sleep(1)\n",
    "    \n",
    "    search=driver.find_element(By.ID,'searchbox-searchbutton') # finding the search button to start the search\n",
    "    search.click() # clicking the search button\n",
    "    \n",
    "    time.sleep(2)\n",
    "      \n",
    "    data=[]  # list for storing data\n",
    "    \n",
    "    i=3\n",
    "    attempt=0;\n",
    "    \n",
    "    elements = WebDriverWait(driver, 10).until(\n",
    "        EC.presence_of_all_elements_located((By.CLASS_NAME, \"hfpxzc\")))\n",
    "    \n",
    "    print(f'Extracting information for {location} ...')\n",
    "    \n",
    "    time.sleep(1)\n",
    "       \n",
    "    try:                \n",
    "                                \n",
    "            for element in elements:\n",
    "                element.click();\n",
    "                time.sleep(1) \n",
    "\n",
    "                webdriver.ActionChains(driver).move_to_element(element).click(element).perform()\n",
    "                time.sleep(3) \n",
    "\n",
    "                try:\n",
    "                    Name=driver.find_element(By.CLASS_NAME,'DUwDvf').text\n",
    "                except:\n",
    "                    Name=\"\"          \n",
    "\n",
    "                try:\n",
    "                    ratings=driver.find_element(By.CLASS_NAME,'F7nice').text\n",
    "                except:\n",
    "                    ratings=\"NO ratings available\"\n",
    "\n",
    "                try:\n",
    "                    address =driver.find_element(By.CSS_SELECTOR,\"[data-item-id='address']\").text\n",
    "                except:\n",
    "                    address=\"NO address available\"\n",
    "\n",
    "                try:\n",
    "                    phone_number =driver.find_element(By.CSS_SELECTOR,\"[data-tooltip='Copy phone number']\").text\n",
    "                except:\n",
    "                    phone_number=\"NO phone number available\"\n",
    "\n",
    "                try:\n",
    "                    website = driver.find_element(By.CSS_SELECTOR,\"[data-item-id='authority']\").text\n",
    "                except:\n",
    "                    website=\"NO website available\"\n",
    "                \n",
    "                driver.back()\n",
    "\n",
    "                data.append({\n",
    "                    \"Name\":Name,\n",
    "                    \"Ratings\":ratings,\n",
    "                    \"Address\":address,\n",
    "                    \"Phone_number\":phone_number,\n",
    "                    \"Website\":website\n",
    "                })\n",
    "\n",
    "                if(len(data)==no_of_records//2):\n",
    "                    print('50% done')\n",
    "                elif(len(data)==no_of_records):\n",
    "                    print('100% done')\n",
    "                    break;\n",
    "            \n",
    "            return data;    \n",
    "      \n",
    "    except Exception as e:\n",
    "        print(e)\n",
    "        return;\n",
    "    \n",
    "\n",
    "\n",
    "        "
   ]
  },
  {
   "cell_type": "code",
   "execution_count": 17,
   "id": "b1117257",
   "metadata": {},
   "outputs": [],
   "source": [
    "def callerFunc():  # main function , for making a call to the extractor function\n",
    "   \n",
    "    try:\n",
    "        print('what to find?')\n",
    "        extractor_input=input()\n",
    "        \n",
    "        print('enter the no of records you want to extract')\n",
    "        records=int(input())\n",
    "\n",
    "        url='https://www.google.com/maps/'\n",
    "        \n",
    "        PATH = \"C:/SeleniumDrivers/geckodriver.exe\"  # path to the webdriver exe\n",
    "        \n",
    "        driver = webdriver.Firefox(service=Service(PATH))\n",
    "        \n",
    "        print('Starting Now...')\n",
    "        \n",
    "#         driver.maximize_window() # maximize the webdriver window\n",
    "        \n",
    "        result=extractor(driver,url,records,extractor_input)\n",
    "        df=pd.DataFrame.from_dict(result)\n",
    "        \n",
    "        if(df.empty):\n",
    "            print('no data found!')\n",
    "                    \n",
    "        print(f'saving the result to {extractor_input}.csv file...')\n",
    "        df.to_csv(f'{extractor_input}.csv')   # saving data into csv file\n",
    "        print('file saved !')\n",
    "\n",
    "#         driver.minimize_window()  # minimize the webdriver window\n",
    "        driver.quit()\n",
    "\n",
    "        print('completed!')\n",
    "        \n",
    "    except Exception as e:\n",
    "        print(e)\n",
    "        driver.quit()\n"
   ]
  },
  {
   "cell_type": "code",
   "execution_count": 18,
   "id": "ab251259",
   "metadata": {},
   "outputs": [
    {
     "name": "stdout",
     "output_type": "stream",
     "text": [
      "what to find?\n",
      "malls in delhi\n",
      "enter the no of records you want to extract\n",
      "6\n",
      "Starting Now...\n",
      "Extracting information for malls in delhi ...\n",
      "50% done\n",
      "saving the result to malls in delhi.csv file...\n",
      "file saved !\n",
      "completed!\n"
     ]
    }
   ],
   "source": [
    "if __name__==\"__main__\":\n",
    "    callerFunc()"
   ]
  },
  {
   "cell_type": "code",
   "execution_count": null,
   "id": "69103f51",
   "metadata": {},
   "outputs": [],
   "source": []
  },
  {
   "cell_type": "code",
   "execution_count": null,
   "id": "7feca40c",
   "metadata": {},
   "outputs": [],
   "source": []
  },
  {
   "cell_type": "code",
   "execution_count": null,
   "id": "bb495cb6",
   "metadata": {},
   "outputs": [],
   "source": []
  }
 ],
 "metadata": {
  "kernelspec": {
   "display_name": "Python 3",
   "language": "python",
   "name": "python3"
  },
  "language_info": {
   "codemirror_mode": {
    "name": "ipython",
    "version": 3
   },
   "file_extension": ".py",
   "mimetype": "text/x-python",
   "name": "python",
   "nbconvert_exporter": "python",
   "pygments_lexer": "ipython3",
   "version": "3.8.8"
  }
 },
 "nbformat": 4,
 "nbformat_minor": 5
}
